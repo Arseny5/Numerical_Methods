{
  "nbformat": 4,
  "nbformat_minor": 0,
  "metadata": {
    "colab": {
      "provenance": [],
      "collapsed_sections": []
    },
    "kernelspec": {
      "name": "python3",
      "display_name": "Python 3"
    },
    "language_info": {
      "name": "python"
    }
  },
  "cells": [
    {
      "cell_type": "code",
      "source": [
        "import numpy as np"
      ],
      "metadata": {
        "id": "76X1cbs0qqol"
      },
      "execution_count": 27,
      "outputs": []
    },
    {
      "cell_type": "markdown",
      "source": [
        "# Прямые метода решения СЛАУ"
      ],
      "metadata": {
        "id": "b6S1k86lqv_j"
      }
    },
    {
      "cell_type": "code",
      "source": [
        "matrix = np.array([[3.8, 6.7, -1.2, 5.2], \n",
        "                   [6.4, 1.3, -2.7, 3.8], \n",
        "                   [2.4, -4.5, 3.5, -0.6]])"
      ],
      "metadata": {
        "id": "WGP1FZPPqqq8"
      },
      "execution_count": 28,
      "outputs": []
    },
    {
      "cell_type": "code",
      "source": [
        "# Реализация с приведением матрицы к треугольной форме а потом к диагональному виду. \n",
        "# В последнем столбце будет находиться решение\n",
        "def makeTriangleNaive(matrix):\n",
        "    for nrow, row in enumerate(matrix):\n",
        "        divider = row[nrow]\n",
        "        row /= divider\n",
        "        for lower_row in matrix[nrow+1:]:\n",
        "            factor = lower_row[nrow] \n",
        "            lower_row -= factor*row\n",
        "    return matrix"
      ],
      "metadata": {
        "id": "raEpr4-mqqtg"
      },
      "execution_count": 29,
      "outputs": []
    },
    {
      "cell_type": "code",
      "source": [
        "def makeIdentity(matrix):\n",
        "    for nrow in range(len(matrix)-1,0,-1):\n",
        "        row = matrix[nrow]\n",
        "        for upper_row in matrix[:nrow]:\n",
        "            factor = upper_row[nrow]\n",
        "            upper_row[-1] -= factor*row[-1]\n",
        "            upper_row[nrow] = 0\n",
        "    return matrix"
      ],
      "metadata": {
        "id": "Hf-Yb1DkqqwD"
      },
      "execution_count": 30,
      "outputs": []
    },
    {
      "cell_type": "code",
      "source": [
        "m1 = makeTriangleNaive(np.copy(matrix))\n",
        "m2 = makeIdentity(m1)\n",
        "m2"
      ],
      "metadata": {
        "id": "JAIiQcR8qqye",
        "colab": {
          "base_uri": "https://localhost:8080/"
        },
        "outputId": "f1ad2a8e-a7c7-4362-8974-3c624cadc0a8"
      },
      "execution_count": 31,
      "outputs": [
        {
          "output_type": "execute_result",
          "data": {
            "text/plain": [
              "array([[ 1.        ,  0.        ,  0.        ,  0.53344344],\n",
              "       [-0.        ,  1.        ,  0.        ,  0.49024295],\n",
              "       [ 0.        ,  0.        ,  1.        ,  0.09309401]])"
            ]
          },
          "metadata": {},
          "execution_count": 31
        }
      ]
    },
    {
      "cell_type": "markdown",
      "source": [
        "## Метод выбора ведущего элемента"
      ],
      "metadata": {
        "id": "HyOZ2odTxwKY"
      }
    },
    {
      "cell_type": "code",
      "source": [
        "def makeTrianglePivot(matrix):\n",
        "    for nrow in range(len(matrix)):\n",
        "        pivot = nrow + np.argmax(abs(matrix[nrow:, nrow]))\n",
        "        if pivot != nrow:\n",
        "            matrix[nrow], matrix[pivot] = matrix[pivot], np.copy(matrix[nrow])\n",
        "        row = matrix[nrow]\n",
        "        divider = row[nrow]\n",
        "        if abs(divider) < 1e-10:\n",
        "            raise ValueError(\"Матрица несовместна\")\n",
        "        row /= divider     \n",
        "        for lower_row in matrix[nrow+1:]:\n",
        "            factor = lower_row[nrow] \n",
        "            lower_row -= factor*row\n",
        "    return matrix"
      ],
      "metadata": {
        "id": "57DGVuSJqq5f"
      },
      "execution_count": 36,
      "outputs": []
    },
    {
      "cell_type": "code",
      "source": [
        "makeTrianglePivot(np.array([[1,0,0,1],\n",
        "                         [0,0,1,2],\n",
        "                         [0,1,0,3]\n",
        "                        ], dtype=float))"
      ],
      "metadata": {
        "id": "AkffOtmTqq8Q",
        "colab": {
          "base_uri": "https://localhost:8080/"
        },
        "outputId": "3e228166-fac1-4dd2-f696-ee3f2b63a07c"
      },
      "execution_count": 37,
      "outputs": [
        {
          "output_type": "execute_result",
          "data": {
            "text/plain": [
              "array([[1., 0., 0., 1.],\n",
              "       [0., 1., 0., 3.],\n",
              "       [0., 0., 1., 2.]])"
            ]
          },
          "metadata": {},
          "execution_count": 37
        }
      ]
    },
    {
      "cell_type": "code",
      "source": [
        "def gaussSolvePivot(A, b=None):\n",
        "    \"\"\"Решает систему линейных алгебраических уравнений Ax=b\n",
        "    Если b is None, то свободные коэффициенты в последней колонке\"\"\"\n",
        "    shape = A.shape\n",
        "    assert len(shape) == 2, (\"Матрица не двумерная\", shape) # двумерная матрица\n",
        "    A = A.copy()\n",
        "    if b is not None:\n",
        "        assert shape[0] == shape[1], (\"Матрица не квадратная\", shape)\n",
        "        assert b.shape == (shape[0],), (\"Размерность свободных членов не соответствует матрица\", shape, b.shape)\n",
        "        # добавляем свободные члены дополнительным столбцом\n",
        "        A = np.c_[A, b]\n",
        "    else:\n",
        "        # Проверяем, что квадратная плюс столбец\n",
        "        assert shape[0]+1 == shape[1], (\"Неверный формат матрицы\", shape)\n",
        "    makeTrianglePivot(A)\n",
        "    makeIdentity(A)\n",
        "    return A[:,-1]"
      ],
      "metadata": {
        "id": "5YYKG2dGxdPT"
      },
      "execution_count": 38,
      "outputs": []
    },
    {
      "cell_type": "code",
      "source": [
        "gaussSolvePivot(matrix)"
      ],
      "metadata": {
        "colab": {
          "base_uri": "https://localhost:8080/"
        },
        "id": "YF_w82LexdR3",
        "outputId": "b7c4699e-aec6-4a4a-bf3f-f2158de38069"
      },
      "execution_count": 39,
      "outputs": [
        {
          "output_type": "execute_result",
          "data": {
            "text/plain": [
              "array([0.53344344, 0.49024295, 0.09309401])"
            ]
          },
          "metadata": {},
          "execution_count": 39
        }
      ]
    },
    {
      "cell_type": "markdown",
      "source": [
        "## Метод прогонки"
      ],
      "metadata": {
        "id": "WPYnS0pWr_wd"
      }
    },
    {
      "cell_type": "code",
      "source": [
        "###################################################################\n",
        "### n - число уравнений (строк матрицы)                         ###\n",
        "### b - диагональ, лежащая над главной (нумеруется: [0;n-2])    ###\n",
        "### c - главная диагональ матрицы A (нумеруется: [0;n-1])       ###\n",
        "### a - диагональ, лежащая под главной (нумеруется: [1;n-1])    ###\n",
        "### f - правая часть (столбец)                                  ###\n",
        "### x - решение, массив x будет содержать ответ                 ###\n",
        "###################################################################\n",
        "\n",
        "def runThrough(a,b,c,f):\n",
        "    a, b, c, f = tuple(map(lambda k_list: list(map(float, k_list)), (a, b, c, f)))\n",
        "\n",
        "    alpha = [-b[0] / c[0]]\n",
        "    beta = [f[0] / c[0]]\n",
        "    n = len(f)\n",
        "    print(n)\n",
        "    x = [0]*n\n",
        "    print(x)\n",
        "\n",
        "    for i in range(1, n):\n",
        "        alpha.append(-b[i]/(a[i]*alpha[i-1] + c[i]))\n",
        "        beta.append((f[i] - a[i]*beta[i-1])/(a[i]*alpha[i-1] + c[i]))\n",
        "\n",
        "    x[n-1] = beta[n - 1]\n",
        "\n",
        "    for i in range(n-1, 0, -1):\n",
        "        x[i - 1] = alpha[i - 1]*x[i] + beta[i - 1]\n",
        "\n",
        "    return x"
      ],
      "metadata": {
        "id": "UGAd_q-nqrBT"
      },
      "execution_count": 40,
      "outputs": []
    },
    {
      "cell_type": "code",
      "source": [
        "a = [0, 1, 1]\n",
        "b = [0, 0, 0]\n",
        "c = [5, 6, 4, -3]\n",
        "f = [8, 10, 3, -2]"
      ],
      "metadata": {
        "id": "iJctieYCt58A"
      },
      "execution_count": 41,
      "outputs": []
    },
    {
      "cell_type": "code",
      "source": [
        "runThrough(a, b, c, f)"
      ],
      "metadata": {
        "id": "9mQ3xn9isMpA"
      },
      "execution_count": 42,
      "outputs": []
    },
    {
      "cell_type": "code",
      "source": [],
      "metadata": {
        "id": "4GIP3UqTsw_P"
      },
      "execution_count": null,
      "outputs": []
    }
  ]
}