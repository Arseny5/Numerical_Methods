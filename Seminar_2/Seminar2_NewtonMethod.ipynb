{
  "nbformat": 4,
  "nbformat_minor": 0,
  "metadata": {
    "colab": {
      "provenance": []
    },
    "kernelspec": {
      "name": "python3",
      "display_name": "Python 3"
    },
    "language_info": {
      "name": "python"
    }
  },
  "cells": [
    {
      "cell_type": "markdown",
      "source": [
        "# Отделение корней. Метод Ньютона и его разновидности."
      ],
      "metadata": {
        "id": "mthSKs9Ii88N"
      }
    },
    {
      "cell_type": "code",
      "source": [
        "def negative_mul(coeffs):\n",
        "    for i in range(len(coeffs)):\n",
        "        coeffs[i] = -coeffs[i]\n",
        "    return coeffs\n",
        "\n",
        "def f(x):\n",
        "    return x**5 + 2*x**4 - 5*x**3 + 8*x**2 - 7*x - 3\n",
        "\n",
        "def df(x):\n",
        "    return 5*x**4 + 8*x**3 - 15*x**2 + 16*x - 7\n",
        "\n",
        "def t1(coeffs):\n",
        "    return len(coeffs) - 1\n",
        "\n",
        "def t2(coeffs):\n",
        "    return len(coeffs) % 2 == 0\n",
        "\n",
        "def t3(coeffs):\n",
        "    n = len(coeffs)\n",
        "    A = max(coeffs[0:n - 1])\n",
        "    B = max(coeffs[1:n])\n",
        "\n",
        "    r = 1/(1 + B/abs(coeffs[0]))\n",
        "    R = 1 + A/abs(coeffs[n - 1])\n",
        "\n",
        "    return ([r, R], [-R, -r])\n",
        "\n",
        "def t4(coeffs):\n",
        "    n = len(coeffs) \n",
        "    first_negative_index = -1\n",
        "    for i in range(n - 1, -1, -1):\n",
        "        if coeffs[i] < 0:\n",
        "            first_negative_index = i\n",
        "            break\n",
        "    \n",
        "    C = -1\n",
        "    for i in range(n - 1, -1, -1):\n",
        "        if coeffs[i] < 0 and abs(coeffs[i]) > C:\n",
        "            C = abs(coeffs[i])\n",
        "\n",
        "    return 1 + (C / coeffs[n - 1]) ** 1/(n - first_negative_index)\n",
        "\n",
        "def t5(coeffs):\n",
        "    n = len(coeffs)\n",
        "    \n",
        "    new_coeffs_1 = list(reversed(coeffs))\n",
        "    if new_coeffs_1[n - 1] < 0:\n",
        "        new_coeffs_1 = negative_mul(new_coeffs_1)\n",
        "    new_coeffs_2 = [coeffs[0]]\n",
        "    \n",
        "    for i in range(1, len(coeffs)):\n",
        "        if i % 2 != 0:\n",
        "            new_coeffs_2.append(-coeffs[i])\n",
        "        else:\n",
        "            new_coeffs_2.append(coeffs[i])\n",
        "    \n",
        "    if new_coeffs_2[n - 1] < 0:\n",
        "        new_coeffs_2 = negative_mul(new_coeffs_2)\n",
        "    \n",
        "    new_coeffs_3 = list(reversed(new_coeffs_2))\n",
        "    if new_coeffs_3[n - 1] < 0:\n",
        "        new_coeffs_3 = negative_mul(new_coeffs_3)\n",
        "\n",
        "    R = t4(coeffs)\n",
        "    R1 = t4(new_coeffs_1)\n",
        "    R2 = t4(new_coeffs_2)\n",
        "    R3 = t4(new_coeffs_3)\n",
        "\n",
        "    return ([1/R1, R], [-R2, -1/R3])\n",
        "\n",
        "def t6(coeffs):\n",
        "    s1 = 0\n",
        "    s2 = 0\n",
        "    new_coeffs_1 = [coeffs[0]]\n",
        "    for i in range(1, len(coeffs)):\n",
        "        if i % 2 != 0:\n",
        "            new_coeffs_1.append(-coeffs[i])\n",
        "        else:\n",
        "            new_coeffs_1.append(coeffs[i])\n",
        "    \n",
        "    for i in range(len(coeffs) - 1, 0, -1):\n",
        "        if coeffs[i]*coeffs[i - 1] < 0:\n",
        "            s1 += 1\n",
        "    \n",
        "    for i in range(len(new_coeffs_1) - 1, 0, -1):\n",
        "        if new_coeffs_1[i]*new_coeffs_1[i - 1] < 0:\n",
        "            s2 += 1\n",
        "    \n",
        "    return (s1, s2)\n",
        "\n",
        "def t7(coeffs):\n",
        "    for i in range(1, len(coeffs) - 1):\n",
        "        if coeffs[i]**2 < coeffs[i - 1]*coeffs[i + 1]:\n",
        "            return False\n",
        "    return True\n"
      ],
      "metadata": {
        "id": "5TTtKovMic6O"
      },
      "execution_count": null,
      "outputs": []
    },
    {
      "cell_type": "code",
      "source": [
        "coeffs = [-3, -7, 8, -5, 2, 1]\n",
        "print(t1(coeffs))\n",
        "print(t2(coeffs))\n",
        "print(t3(coeffs))\n",
        "print(t4(coeffs))\n",
        "print(t5(coeffs))\n",
        "print(t6(coeffs))\n",
        "print(t7(coeffs))"
      ],
      "metadata": {
        "colab": {
          "base_uri": "https://localhost:8080/"
        },
        "id": "NvdeV_8Xic8s",
        "outputId": "4cff3dae-75ab-4a79-8663-c275d1f234f9"
      },
      "execution_count": null,
      "outputs": [
        {
          "output_type": "stream",
          "name": "stdout",
          "text": [
            "5\n",
            "True\n",
            "([0.27272727272727276, 9.0], [-9.0, -0.27272727272727276])\n",
            "3.3333333333333335\n",
            "([0.5294117647058824, 3.3333333333333335], [-5.0, -0.4285714285714286])\n",
            "(3, 2)\n",
            "True\n"
          ]
        }
      ]
    },
    {
      "cell_type": "markdown",
      "source": [
        "## Метод Ньютона:"
      ],
      "metadata": {
        "id": "CRLF3VgBk-GW"
      }
    },
    {
      "cell_type": "code",
      "source": [
        "def f(x):\n",
        "    return x**5 + 2*x**4 - 5*x**3 + 8*x**2 - 7*x - 3\n",
        "\n",
        "def df(x):\n",
        "    return 5*x**4 + 8*x**3 - 15*x**2 + 16*x - 7\n",
        "\n",
        "def newton(eps=1e-6):\n",
        "    x = 100\n",
        "    while abs(f(x)) > eps:\n",
        "        x = x - f(x) / df(x)\n",
        "    \n",
        "    return x\n"
      ],
      "metadata": {
        "id": "_QqTNMdlidA1"
      },
      "execution_count": null,
      "outputs": []
    },
    {
      "cell_type": "code",
      "source": [
        "print(newton())"
      ],
      "metadata": {
        "colab": {
          "base_uri": "https://localhost:8080/"
        },
        "id": "oqTQ7AUiidDk",
        "outputId": "53ad7e9b-da3f-478b-8adf-c4b59bc0db49"
      },
      "execution_count": null,
      "outputs": [
        {
          "output_type": "stream",
          "name": "stdout",
          "text": [
            "1.3068172175032606\n",
            "1.3068172175032606\n"
          ]
        }
      ]
    }
  ]
}