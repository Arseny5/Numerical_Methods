{
 "cells": [
  {
   "cell_type": "code",
   "execution_count": 7,
   "id": "b233bd6d-2dc5-4e9d-aecd-341b8c0fe005",
   "metadata": {},
   "outputs": [],
   "source": [
    "from scipy.optimize import root,fsolve\n",
    "import numpy as np\n",
    "from matplotlib import pyplot as plt"
   ]
  },
  {
   "cell_type": "markdown",
   "id": "a77de327-24a4-4acc-bd09-351bd3c744f1",
   "metadata": {},
   "source": [
    "## Решение нелинейного уравнения методом дихотомии: f(x)=0"
   ]
  },
  {
   "cell_type": "code",
   "execution_count": 17,
   "id": "db5d6fce-fc2a-4aa1-b598-9b5a3fb5baab",
   "metadata": {},
   "outputs": [],
   "source": [
    "def f(x):\n",
    "    if(x==0):\n",
    "        print(f'Аргумент не может быть равен нулю')\n",
    "    return ((x-2)**3)*((x-5)**4)      "
   ]
  },
  {
   "cell_type": "code",
   "execution_count": 18,
   "id": "8bf26284-47e2-464e-9ad6-a54d9da73efe",
   "metadata": {},
   "outputs": [],
   "source": [
    "def dyhotomy(a, b, eps):\n",
    "    root = None\n",
    "    while abs(f(b)-f(a)) > eps:\n",
    "        mid = (a+b) / 2\n",
    "        if f(mid) == 0 or abs(f(mid)) < eps:\n",
    "            root = mid\n",
    "            break\n",
    "        elif f(a)*f(mid) < 0:\n",
    "            b = mid\n",
    "        else:\n",
    "            a = mid\n",
    "\n",
    "    if root is None:\n",
    "        print('Корень не найден')\n",
    "    else:\n",
    "        print(f'Корень по методу дихотомии находится в точке x = {root}')"
   ]
  },
  {
   "cell_type": "code",
   "execution_count": 19,
   "id": "37814429-1cd0-4552-9dc1-a052cd0e8989",
   "metadata": {},
   "outputs": [
    {
     "name": "stdout",
     "output_type": "stream",
     "text": [
      "Корень по методу дихотомии находится в точке x = 1.9875\n"
     ]
    }
   ],
   "source": [
    "dyhotomy(0.8, 2.7, 0.01)"
   ]
  },
  {
   "cell_type": "markdown",
   "id": "22fdf574-d7c8-442b-b12f-2c8f93bf7c7c",
   "metadata": {},
   "source": [
    "## Решение нелинейного уравнения методом простой итерации: f(x)=0"
   ]
  },
  {
   "cell_type": "code",
   "execution_count": 22,
   "id": "ea90f005-d3ee-408d-a607-8f9e32cdf57c",
   "metadata": {},
   "outputs": [],
   "source": [
    "def f(x, a):\n",
    "    if(x==0):\n",
    "        print(f'Аргумент не может быть равен нулю')\n",
    "    return (1/2)*(x + a/x)     "
   ]
  },
  {
   "cell_type": "code",
   "execution_count": 23,
   "id": "3d305817-2e77-4d50-ab9f-394defefcb07",
   "metadata": {},
   "outputs": [],
   "source": [
    "def simple_iteration(x_init, a, eps):\n",
    "    x = x_init\n",
    "    while(f(x, a) - x > eps):\n",
    "        x = f(x, a)\n",
    "    return x"
   ]
  },
  {
   "cell_type": "code",
   "execution_count": 24,
   "id": "860710a5-2ca0-41d5-85cf-f5844cf8cf38",
   "metadata": {},
   "outputs": [
    {
     "name": "stdout",
     "output_type": "stream",
     "text": [
      "Корень по методу дихотомии находится в точке x = 5\n"
     ]
    }
   ],
   "source": [
    "print(f'Корень по методу дихотомии находится в точке x = {simple_iteration(5, 1.7, 0.01)}')"
   ]
  },
  {
   "cell_type": "markdown",
   "id": "3e310151-b4ba-4ac9-a06e-bbdbdf5c7f08",
   "metadata": {},
   "source": [
    "## Решение нелинейного уравнения методом хорд: f(x)=0"
   ]
  },
  {
   "cell_type": "code",
   "execution_count": 12,
   "id": "4ed68f3f-1a76-43cb-a082-5e9dcba35a18",
   "metadata": {},
   "outputs": [],
   "source": [
    "def f(x):\n",
    "    if(x==0):\n",
    "        print(f'Аргумент не может быть равен нулю')\n",
    "    return ((x-2)**3)*((x-5)**4)      "
   ]
  },
  {
   "cell_type": "code",
   "execution_count": 13,
   "id": "b9ddf0e8-83a9-430d-a9e5-e9ad0ebe2e78",
   "metadata": {},
   "outputs": [],
   "source": [
    "def dihotomy_recursion(a, b, eps):\n",
    "    mid = (a + b) / 2\n",
    "    if -eps < f(mid) < eps:\n",
    "        return mid\n",
    "    if f(a) * f(mid) < 0:\n",
    "        return dihotomy_recursion(a, mid, eps)\n",
    "    if f(mid) * f(b) < 0:\n",
    "        return dihotomy_recursion(mid, b, eps)"
   ]
  },
  {
   "cell_type": "code",
   "execution_count": 14,
   "id": "440ba3c3-94b9-49e3-88a8-c7a18776dd63",
   "metadata": {},
   "outputs": [],
   "source": [
    "def hord(a, b, eps):\n",
    "    p1 = abs(f(a) / f(b))\n",
    "    mes = b - a\n",
    "    c = p1 * mes + a\n",
    "    if -eps < f(c) < eps:\n",
    "        return c\n",
    "    if f(a) * f(c) < 0:\n",
    "        return dihotomy_recursion(a, c, eps)\n",
    "    if f(c) * f(b) < 0:\n",
    "        return dihotomy_recursion(c, b, eps)"
   ]
  },
  {
   "cell_type": "code",
   "execution_count": 15,
   "id": "1234f1fd-0468-460d-972f-eacd54a16c65",
   "metadata": {},
   "outputs": [
    {
     "name": "stdout",
     "output_type": "stream",
     "text": [
      "Корень по методу дихотомии находится в точке x = 2.0472982872416834\n"
     ]
    }
   ],
   "source": [
    "print(f'Корень по методу дихотомии находится в точке x = {hord(0.8, 2.7, 0.01)}')"
   ]
  },
  {
   "cell_type": "code",
   "execution_count": null,
   "id": "56a78221-149c-4530-beab-83c1ab4f41ad",
   "metadata": {},
   "outputs": [],
   "source": []
  }
 ],
 "metadata": {
  "kernelspec": {
   "display_name": "Python 3 (ipykernel)",
   "language": "python",
   "name": "python3"
  },
  "language_info": {
   "codemirror_mode": {
    "name": "ipython",
    "version": 3
   },
   "file_extension": ".py",
   "mimetype": "text/x-python",
   "name": "python",
   "nbconvert_exporter": "python",
   "pygments_lexer": "ipython3",
   "version": "3.7.12"
  }
 },
 "nbformat": 4,
 "nbformat_minor": 5
}
